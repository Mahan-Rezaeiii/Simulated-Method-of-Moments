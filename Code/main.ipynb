{
 "cells": [
  {
   "cell_type": "markdown",
   "id": "2ce651f7",
   "metadata": {},
   "source": [
    "- #### Import Libraries"
   ]
  },
  {
   "cell_type": "code",
   "execution_count": 1,
   "id": "493635d9",
   "metadata": {},
   "outputs": [],
   "source": [
    "import numpy as np\n",
    "import matplotlib.pyplot as plt"
   ]
  },
  {
   "cell_type": "markdown",
   "id": "4a0eeea6",
   "metadata": {},
   "source": [
    "The true data generating process for a series $\\lbrace x_t \\rbrace_{t=1}^{T=200}$ is given by the following AR(1) model:\n",
    "$$ x_t = \\rho_0 x_{t−1} + \\epsilon_t, \\qquad \\epsilon_t \\sim N(0,1)$$\n",
    "\n",
    "where $\\rho_0 = 0.5$ and $x_0 = 0$."
   ]
  },
  {
   "cell_type": "markdown",
   "id": "2125f500",
   "metadata": {},
   "source": [
    "The model generation process will be:\n",
    "$$ y_t(b) = \\rho y_{t-1}(b) + e_t, \\qquad e_t \\sim N(0,\\sigma^2) $$\n",
    "\n",
    "Where $b = (\\rho, \\sigma^2)$\n",
    "\n",
    "<ins>Since we do not know the true parameter vector of b, we will estimate it using the simulated method of moments.<ins>\n",
    "\n",
    "- The **first step** is to define $m$, which denotes a mapping from a $ 1 \\times 1 $ vector $ z_t $ (either true data or model-generated pseudodata) to an $ n \\times 1 $ moment vector.\n",
    "\n",
    "We set $n = 3$ and construct the mean, variance, and first-order autocovariance using the following matrix:\n",
    "\n",
    "$$ m_3(z_t) =\\begin{bmatrix}\n",
    "z_t\\\\\n",
    "(z_t-\\bar{z})^2\\\\\n",
    "(z_t-\\bar{z})(z_{t-1}-\\bar{z})\n",
    "\\end{bmatrix}$$\n",
    "\n",
    "- The **second step** is to calculate these three asymptotic moments. The following operations are related to the calculation of these moments:\n",
    "\n",
    "---"
   ]
  },
  {
   "cell_type": "markdown",
   "id": "f9dac5f3",
   "metadata": {},
   "source": [
    "- **Moment of Mean:**\n",
    "$$E[x_t] = E[\\rho_0 x_{t-1}+\\epsilon_t]=\\rho_0 E[x_{t-1}]+E[\\epsilon_t]$$\n",
    " Since $E[\\epsilon_t]=0$ and $E[x_{0}]=E[0]=0$\n",
    "\n",
    "$$E[x_t] = 0 \\qquad \\text{for all}\\quad t$$\n",
    "\n",
    "---"
   ]
  },
  {
   "cell_type": "markdown",
   "id": "2ee88345",
   "metadata": {},
   "source": [
    "- **Moment of Variance:**\n",
    "$$\\operatorname{Var}[x_t] = E[x_t^2] - (E[x_t])^2 \\xRightarrow[{}]{E[x_t]=0} \\operatorname{Var}[x_t] = E[x_t^2] $$\n",
    "\n",
    "$$ E[x_t^2] = E[(\\rho_0 x_{t-1}+\\epsilon_t)^2] = \\rho_0^2 E[x_{t-1}^2] + 2\\rho_0 E[x_{t-1}\\epsilon_t] + E[\\epsilon^2] $$\n",
    "\n",
    " Since $\\epsilon_t$ is indipendent of $x_{t-1}$ and $E[\\epsilon_t]=0$\n",
    "\n",
    " $$ E[x_{t-1}\\epsilon_t] = E[x_{t-1}]E[\\epsilon_t] = 0 $$\n",
    "\n",
    " $$ E[x_t^2] = \\rho_0^2 E[x_{t-1}^2] + E[\\epsilon^2] \\rightarrow var = \\rho_0^2 var + \\sigma_0^2 $$\n",
    "\n",
    " Solving for $var$:\n",
    " $$ var = \\dfrac{\\sigma_0^2}{(1-\\rho_0^2)} $$\n",
    "***"
   ]
  },
  {
   "cell_type": "markdown",
   "id": "570e408e",
   "metadata": {},
   "source": [
    "- **Moment of First-order Autocovariance:**\n",
    "\n",
    "$$ \\operatorname{Cov}[x_t, x_{t-1}] = E[x_t x_{t-1}] - E[x_t] E[x_{t-1}] \\xRightarrow[]{E[x_t]=0} E[x_t x_{t-1}] $$\n",
    "\n",
    "$$ E[x_t x_{t-1}] = E[(\\rho_0 x_{t-1} + \\varepsilon_t) x_{t-1}] = \\rho_0 E[x_{t-1}^2] + E[\\varepsilon_t x_{t-1}] $$\n",
    "\n",
    "Since $ \\varepsilon_t $ is independent of $ x_{t-1} $:\n",
    "\n",
    "$$ E[x_t x_{t-1}] = \\rho_0 E[x_{t-1}^2] = \\rho_0 var $$\n",
    "\n",
    "Then We have,\n",
    "\n",
    "$$ \\operatorname{Cov}[x_t, x_{t-1}] = \\rho_0 \\times \\left( \\frac{\\sigma_0^2}{1 - \\rho_0^2} \\right) $$\n",
    "\n",
    "---"
   ]
  },
  {
   "cell_type": "markdown",
   "id": "c42d5422",
   "metadata": {},
   "source": [
    "We can write the population (unconditional) moment vector for the true data using $m$ as $\\mu(x) = E[m(x)]$.\n",
    "\n",
    "### **Asymptotic Moments:**\n",
    "\n",
    "- The population data moments are:\n",
    "$$ \\mu(x) =\n",
    "\\begin{bmatrix}\n",
    "0\\\\\n",
    "\\dfrac{\\sigma_0^2}{1-\\rho_0^2}\\\\\n",
    "\\rho_0 \\times \\left( \\frac{\\sigma_0^2}{1 - \\rho_0^2} \\right)\n",
    "\\end{bmatrix}=\n",
    "\\begin{bmatrix}\n",
    "0\\\\\n",
    "\\dfrac{4}{3}\\\\\n",
    "\\dfrac{2}{3}\n",
    "\\end{bmatrix}$$\n",
    "\n",
    "- The Population model moments are:\n",
    "$$\n",
    "\\mu(y(b)) = \\begin{bmatrix}\n",
    "0\\\\\n",
    "\\dfrac{\\sigma^2}{1-\\rho^2}\\\\\n",
    "\\rho \\times \\left( \\frac{\\sigma^2}{1 - \\rho^2} \\right)\n",
    "\\end{bmatrix}$$\n",
    "\n",
    "---"
   ]
  },
  {
   "cell_type": "markdown",
   "id": "7aac0b43",
   "metadata": {},
   "source": [
    "### **Computation of $ \\nabla_b g(b_0)$:**\n",
    "\n",
    "To calculate $ \\nabla_b g(b_0)$, we must compute the partial derivatives of each moment with respect to $\\rho$ and $\\sigma$.\n",
    "\n",
    "- **Moment of Mean:**\n",
    "\n",
    "$$ \\dfrac{\\partial E[x_t]}{\\partial \\rho} = \\dfrac{\\partial E[x_t]}{\\partial \\sigma} = 0 $$\n",
    "\n",
    "---\n",
    "- **Moment of Variance:**\n",
    "\n",
    "$$ \\dfrac{\\partial Var[x_t]}{\\partial \\rho} = \\dfrac{2\\rho \\sigma^2}{(1-\\rho^2)^2}$$\n",
    "\n",
    "$$ \\dfrac{\\partial Var[x_t]}{\\partial \\sigma} = \\dfrac{2\\sigma}{(1-\\rho^2)}$$\n",
    "\n",
    "---\n",
    "- **Moment of First-Order Autocovariance:**\n",
    "\n",
    "$$ \\dfrac{\\partial Cov[x_t,x_{t-1}]}{\\partial \\rho} = \\dfrac{\\sigma^2}{1-\\rho^2} + \\dfrac{2\\sigma^2 \\rho^2}{(1-\\rho^2)^2} = \\frac{\\sigma^2 (1 + \\rho^2)}{(1 - \\rho^2)^2}\n",
    "$$\n",
    "\n",
    "$$ \\dfrac{\\partial Cov[x_t,x_{t-1}]}{\\partial \\sigma} = \\rho \\times \\dfrac{2\\sigma}{(1-\\rho^2)}$$\n",
    "\n",
    "---"
   ]
  },
  {
   "cell_type": "markdown",
   "id": "d10d8d7e",
   "metadata": {},
   "source": [
    "A moment is considered informative for estimating a parameter if its derivative with respect to that parameter is non-zero. From the derivations above, we can see that the moment of the mean is not informative, whereas the moments of variance and autocovariance contain valuable information that can help us in the Simulated Method of Moments (SMM) approach."
   ]
  },
  {
   "cell_type": "markdown",
   "id": "3aec4dd5",
   "metadata": {},
   "source": [
    "### **Simulate a series of “true” data**\n",
    "Set the Parameters"
   ]
  },
  {
   "cell_type": "code",
   "execution_count": 2,
   "id": "a2122d10",
   "metadata": {},
   "outputs": [],
   "source": [
    "rho = 0.5\n",
    "T = 200"
   ]
  },
  {
   "cell_type": "markdown",
   "id": "ccb952a8",
   "metadata": {},
   "source": [
    "To construct the AR(1) process, start by:\n",
    "- Create an initial array X\n",
    "- Generate T random number from a normal distribution"
   ]
  },
  {
   "cell_type": "code",
   "execution_count": 3,
   "id": "0680e06d",
   "metadata": {},
   "outputs": [],
   "source": [
    "np.random.seed(111)\n",
    "x = np.zeros(T+1)\n",
    "x[0] = 0\n",
    "eps = np.random.normal(0,1,T+1)\n",
    "\n",
    "for t in range(1,T+1):\n",
    "    x[t] = rho * x[t-1] + eps[t]\n",
    "\n",
    "x = x[1:]"
   ]
  },
  {
   "cell_type": "markdown",
   "id": "26fd03ee",
   "metadata": {},
   "source": [
    "Plot the true data for the AR(1) process"
   ]
  },
  {
   "cell_type": "code",
   "execution_count": 4,
   "id": "75cf6e08",
   "metadata": {},
   "outputs": [
    {
     "data": {
      "image/png": "[encoded data removed]",
      "text/plain": [
       "<Figure size 640x480 with 1 Axes>"
      ]
     },
     "metadata": {},
     "output_type": "display_data"
    }
   ],
   "source": [
    "plt.Figure()\n",
    "plt.plot(x, label=r\"$x_t = \\rho_0 x_{t-1} + \\varepsilon_t$\", color = \"blue\", linewidth=1)\n",
    "plt.xlabel(\"Time\")\n",
    "plt.ylabel(\"$x_t$\")\n",
    "plt.legend()\n",
    "plt.show()"
   ]
  },
  {
   "cell_type": "markdown",
   "id": "294acbb3",
   "metadata": {},
   "source": [
    "### **True Data Moments: $\\mu(x)$**"
   ]
  },
  {
   "cell_type": "code",
   "execution_count": 5,
   "id": "af27c83b",
   "metadata": {},
   "outputs": [
    {
     "name": "stdout",
     "output_type": "stream",
     "text": [
      "[0.02300667 1.31465318 0.51312057]\n"
     ]
    }
   ],
   "source": [
    "mean_x = np.mean(x)\n",
    "varianc_x = np.var(x)\n",
    "autocov_x = np.corrcoef(x[:-1], x[1:])[0, 1] \n",
    "\n",
    "MT_x = np.array([mean_x, varianc_x, autocov_x])\n",
    "print(MT_x)"
   ]
  },
  {
   "cell_type": "markdown",
   "id": "1e6cd63c",
   "metadata": {},
   "source": [
    "Function of Monte Carlo generator for AR(1) time series\n",
    "- $e_t$: Contructing a matrix of random white noise $(10 \\times 200)$\n",
    "- $simul-dta$: Get $\\rho$ and $\\sigma$ to contruct a $(10 \\times 200)$ matrix."
   ]
  },
  {
   "cell_type": "code",
   "execution_count": null,
   "id": "ef48c92d",
   "metadata": {},
   "outputs": [],
   "source": [
    "np.random.seed(111)\n",
    "H = 10\n",
    "e_t = np.random.normal(0, 1, (H, T + 1))\n",
    "\n",
    "def simul_dta(rho, sigma):\n",
    "    y = np.zeros((H, T + 1))\n",
    "    for i in range(H):\n",
    "        for j in range(1, T + 1):\n",
    "            y[i][j] = rho * y[i][j - 1] + sigma * e_t[i][j]\n",
    "    y = y[:, 1:]\n",
    "    return y"
   ]
  },
  {
   "cell_type": "code",
   "execution_count": null,
   "id": "b9193b55",
   "metadata": {},
   "outputs": [],
   "source": [
    "def simul_moment(rho,sigma):\n",
    "    y = simul_dta(rho, sigma)\n",
    "    #?"
   ]
  },
  {
   "cell_type": "code",
   "execution_count": null,
   "id": "0c6bb855",
   "metadata": {},
   "outputs": [],
   "source": []
  },
  {
   "cell_type": "code",
   "execution_count": null,
   "id": "89502f5f",
   "metadata": {},
   "outputs": [],
   "source": []
  },
  {
   "cell_type": "markdown",
   "id": "7d28439f",
   "metadata": {},
   "source": [
    "We are interested in estimating the parameter vector $b$ using SMM. The $n$ moment conditions we are going to use in SMM is given by\n",
    "\n",
    "$$ u(x_t,b) = m(x_t) - \\frac{1}{H} \\sum_{h=1}^{H} m(y_t^h(b))$$\n",
    "\n",
    "Where $H$ is the number of simulations of the model.\n",
    "Then define an $nq \\times 1$ vector (where $n = 3$ and $q = 1$)\n",
    "\n",
    "$$ g(b) = E[u(x_t,b)] = E[m(x_t)] - \\frac{1}{H}\\sum_{h=1}^{H} E[m(y_t^h(b))] = \\mu(x)-\\mu(y(b))$$\n",
    "**Global Identification** requires $g(b) = 0$\n",
    "\n",
    "$$ \\begin{bmatrix}\n",
    "0\\\\\n",
    "\\frac{1}{1-\\rho_0^2}\\\\\n",
    "\\frac{\\rho_0}{1-\\rho_0^2}\n",
    "\\end{bmatrix} =\n",
    "\\begin{bmatrix}\n",
    "0\\\\\n",
    "\\frac{1}{1-\\rho^2}\\\\\n",
    "\\frac{\\rho}{1-\\rho^2}\n",
    "\\end{bmatrix}$$\n",
    "\n",
    "The mean does not identify $b$.\n",
    "\n",
    "$$\\nabla_b g(b_0) = - \\nabla_b \\mu(y(b_0)) = -\n",
    "\\begin{bmatrix}\n",
    "0\\\\\n",
    "\\frac{2}{(1-\\rho_0)^3}\n",
    "\\end{bmatrix}$$\n"
   ]
  },
  {
   "cell_type": "code",
   "execution_count": null,
   "id": "90f6b600",
   "metadata": {},
   "outputs": [],
   "source": []
  }
 ],
 "metadata": {
  "kernelspec": {
   "display_name": "new-env",
   "language": "python",
   "name": "python3"
  },
  "language_info": {
   "codemirror_mode": {
    "name": "ipython",
    "version": 3
   },
   "file_extension": ".py",
   "mimetype": "text/x-python",
   "name": "python",
   "nbconvert_exporter": "python",
   "pygments_lexer": "ipython3",
   "version": "3.11.9"
  }
 },
 "nbformat": 4,
 "nbformat_minor": 5
}
